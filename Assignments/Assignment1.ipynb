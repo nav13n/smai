{
 "cells": [
  {
   "cell_type": "markdown",
   "metadata": {},
   "source": [
    "#### SMAI Assignment Number 1\n",
    "#### Name: Naveen Kumar Pandey\n",
    "#### Roll No: 20173087\n"
   ]
  },
  {
   "cell_type": "markdown",
   "metadata": {},
   "source": [
    "## Imports"
   ]
  },
  {
   "cell_type": "code",
   "execution_count": 117,
   "metadata": {
    "collapsed": true
   },
   "outputs": [],
   "source": [
    "%matplotlib inline\n",
    "import numpy as np\n",
    "import pandas as pd\n",
    "import matplotlib.pyplot as plt\n"
   ]
  },
  {
   "cell_type": "markdown",
   "metadata": {},
   "source": [
    "## Problem 1 : Voted Perceptron"
   ]
  },
  {
   "cell_type": "markdown",
   "metadata": {},
   "source": [
    "### Vanila Perceptron Implementation"
   ]
  },
  {
   "cell_type": "code",
   "execution_count": 118,
   "metadata": {
    "collapsed": true
   },
   "outputs": [],
   "source": [
    "import numpy as np\n",
    "class Perceptron:\n",
    "    \"\"\"\n",
    "    An implementation of a percepton model\n",
    "    \"\"\"\n",
    "    def __init__(self):\n",
    "        self.X=None\n",
    "        self.y=None\n",
    "        self.w = None\n",
    "        self.b = None\n",
    "        self.learning_rate=1\n",
    "      \n",
    "    def fit(self, X, y, epochs):\n",
    "        # Initialise weights and bias\n",
    "        self.w = np.zeros(X.shape[1])\n",
    "        self.b = 0\n",
    "        for epoch in range(epochs):\n",
    "            for i,x in enumerate(X):\n",
    "                if y[i]*(np.dot(X[i], self.w)+self.b) <= 0:\n",
    "                    self.w += self.learning_rate*y[i]*X[i]\n",
    "                    self.b += self.learning_rate*y[i]\n",
    "        return self\n",
    "    \n",
    "    def predict(self, X):\n",
    "        y = np.dot(X, self.w) + self.b\n",
    "        y[y>0]= 1\n",
    "        y[y<=0]= -1\n",
    "        return y"
   ]
  },
  {
   "cell_type": "markdown",
   "metadata": {},
   "source": [
    "### Voted Perceptron Implementation"
   ]
  },
  {
   "cell_type": "code",
   "execution_count": 119,
   "metadata": {
    "collapsed": true
   },
   "outputs": [],
   "source": [
    "import numpy as np\n",
    "class VotedPerceptron:\n",
    "    \"\"\"\n",
    "    An implementation of a voted iipercepton model\n",
    "    \"\"\"\n",
    "    def __init__(self):\n",
    "        self.X=None\n",
    "        self.y=None\n",
    "        self.learning_rate=1\n",
    "        # Stores a tuple of weights, biases and votes (w,b,c)\n",
    "        # for each of the weight changes\n",
    "        self.outputs = None \n",
    "      \n",
    "    def fit(self, X, y, epochs):\n",
    "        # Initialise weights and bias\n",
    "        w,b,c = np.zeros(X.shape[1]), 0, 1\n",
    "        self.outputs = [(w,b,c)]\n",
    "        \n",
    "        for epoch in range(epochs):\n",
    "            for i in range(X.shape[0]):\n",
    "                w,b,c = self.outputs[-1] #Last update\n",
    "                if (np.dot(X[i], w) + b)*y[i] <= 0:\n",
    "                    w += self.learning_rate*y[i]*X[i]\n",
    "                    b += self.learning_rate*y[i]\n",
    "                    c = 1\n",
    "                    self.outputs.append((w,b,c))\n",
    "                else:\n",
    "                    c+=1\n",
    "                    self.outputs[-1] = (w,b,c)\n",
    "        return self\n",
    "    \n",
    "    def predict(self, X):\n",
    "        y_voted = []\n",
    "        for w,b,c in self.outputs:\n",
    "            y_k = np.dot(X,w ) + b\n",
    "            y_k[y_k>0]= 1\n",
    "            y_k[y_k<=0]= -1\n",
    "            y_scaled = c*y_k\n",
    "            y_voted.append(y_scaled.tolist())\n",
    "        y = np.asarray(y_voted)\n",
    "        y = y.sum(axis=0)\n",
    "        y[y>0]=1\n",
    "        y[y<=0]=-1\n",
    "        return y"
   ]
  },
  {
   "cell_type": "markdown",
   "metadata": {},
   "source": [
    "### Preparing the datasets for comparison"
   ]
  },
  {
   "cell_type": "code",
   "execution_count": 120,
   "metadata": {
    "collapsed": true
   },
   "outputs": [],
   "source": [
    "# Download the datasets\n",
    "import pandas as pd\n",
    "uris = [\n",
    "    'https://archive.ics.uci.edu/ml/machine-learning-databases/breast-cancer-wisconsin/breast-cancer-wisconsin.data',\n",
    "    'https://archive.ics.uci.edu/ml/machine-learning-databases/ionosphere/ionosphere.data'\n",
    "]\n",
    "\n",
    "bcdataset, iodataset = [pd.read_csv(uri, header=None) for uri in uris]"
   ]
  },
  {
   "cell_type": "code",
   "execution_count": 121,
   "metadata": {},
   "outputs": [
    {
     "name": "stdout",
     "output_type": "stream",
     "text": [
      "Ionoshpere Dataset Shape : (351, 35)\n",
      "        0   1   2   3   4   5   6   7   8   9   10\n",
      "0  1000025   5   1   1   1   2   1   3   1   1   2\n",
      "1  1002945   5   4   4   5   7  10   3   2   1   2\n",
      "2  1015425   3   1   1   1   2   2   3   1   1   2\n",
      "3  1016277   6   8   8   1   3   4   3   7   1   2\n",
      "4  1017023   4   1   1   3   2   1   3   1   1   2\n",
      "Ionoshpere Dataset Shape After Cleanup : (351, 35)\n",
      "(351, 33)\n"
     ]
    }
   ],
   "source": [
    "#Ionoshpere Dataset Exploration\n",
    "print('Ionoshpere Dataset Shape : {}'.format(iodataset.shape))\n",
    "print(bcdataset.head(5))\n",
    "\n",
    "# Remove rows with missing values\n",
    "# No rows with missing values, skipping cleanup\n",
    "print('Ionoshpere Dataset Shape After Cleanup : {}'.format(iodataset.shape))\n",
    "\n",
    "X_io, y_io = iodataset.iloc[:,1:iodataset.shape[1]-1], iodataset.iloc[:,-1]\n",
    "X_io, y_io = X_io.as_matrix() , y_io.as_matrix()\n",
    "\n",
    "#Convert classification labels 'g', 'b' to +1, -1 for binary classification\n",
    "labels = {'g':1, 'b': -1}\n",
    "for key, val in labels.items():\n",
    "    y_io[y_io==key] = val\n",
    "print(X_io.shape)"
   ]
  },
  {
   "cell_type": "code",
   "execution_count": 122,
   "metadata": {},
   "outputs": [
    {
     "name": "stdout",
     "output_type": "stream",
     "text": [
      "Breast Cancer Dataset Shape : (699, 11)\n",
      "        0   1   2   3   4   5   6   7   8   9   10\n",
      "0  1000025   5   1   1   1   2   1   3   1   1   2\n",
      "1  1002945   5   4   4   5   7  10   3   2   1   2\n",
      "2  1015425   3   1   1   1   2   2   3   1   1   2\n",
      "3  1016277   6   8   8   1   3   4   3   7   1   2\n",
      "4  1017023   4   1   1   3   2   1   3   1   1   2\n",
      "Breast Cancer Dataset Shape After Cleanup : (683, 11)\n"
     ]
    }
   ],
   "source": [
    "#Breast Cancer Dataset Exploration\n",
    "print('Breast Cancer Dataset Shape : {}'.format(bcdataset.shape))\n",
    "print(bcdataset.head(5))\n",
    "\n",
    "# Remove rows with missing values\n",
    "bcdataset.iloc[:,6] = pd.to_numeric(bcdataset.iloc[:,6], errors='coerce')\n",
    "bcdataset = bcdataset.dropna()\n",
    "print('Breast Cancer Dataset Shape After Cleanup : {}'.format(bcdataset.shape))\n",
    "\n",
    "X_bc, y_bc = bcdataset.iloc[:,1:10], bcdataset.iloc[:,10]\n",
    "X_bc, y_bc = X_bc.as_matrix() , y_bc.as_matrix()\n",
    "\n",
    "#Convert classification labels 2, 4 to +1, -1 for binary classification\n",
    "labels = {2:1, 4: -1}\n",
    "for key, val in labels.items():\n",
    "    y_bc[y_bc==key] = val"
   ]
  },
  {
   "cell_type": "code",
   "execution_count": 123,
   "metadata": {
    "collapsed": true
   },
   "outputs": [],
   "source": [
    "def generate_k_folds(dataset, k):\n",
    "    \"\"\"\n",
    "    Returns a list of folds, where each fold is a tuple like (training_set, test_set), where each set is a tuple like (examples, classes)\n",
    "    \"\"\" \n",
    "    folds=[]\n",
    "    n=dataset[0].shape[0]\n",
    "    fold_size = n//k\n",
    "  \n",
    "    \n",
    "    # Divide the data into k equal subsections, keep k-1 section for training and 1 for testing, repeat k times to generate folds\n",
    "    for i in range(k):\n",
    "        indices = [j for j in range(n)]\n",
    "        if i == k-1:\n",
    "            fold_size = n - i*fold_size\n",
    "        test_idx, training_idx = indices[i*fold_size:i*fold_size+fold_size], indices[0:i*fold_size] + indices[i*fold_size+fold_size:] \n",
    "         \n",
    "        examples=dataset[0]\n",
    "        classes=dataset[1]\n",
    "    \n",
    "        training_set_examples=examples[training_idx,:]\n",
    "        training_set_classes=np.array(classes)[training_idx]\n",
    "        training_set=(training_set_examples,training_set_classes)\n",
    "        \n",
    "        test_set_examples=examples[test_idx,:]\n",
    "        test_set_classes=np.array(classes)[test_idx]\n",
    "        test_set=(test_set_examples,test_set_classes)\n",
    "        fold =(training_set,test_set)\n",
    "        folds.append(fold)\n",
    "    return folds "
   ]
  },
  {
   "cell_type": "code",
   "execution_count": 124,
   "metadata": {
    "collapsed": true
   },
   "outputs": [],
   "source": [
    "def accuracy(predicted, actual):\n",
    "    \"\"\"\n",
    "    Returns a score denoting percentage of correct predictions \n",
    "    \"\"\"\n",
    "    return np.mean(predicted == actual)\n",
    "def get_model_accuracy(model, X_train, y_train, X_test, y_test, epochs):\n",
    "    \"\"\"\n",
    "    Trains a model on train set and returns the model's accuracy score on test set\n",
    "    \"\"\"\n",
    "    model.fit(X_train, y_train, epochs=epochs)\n",
    "    prediction = model.predict(X_test)\n",
    "    return accuracy(prediction, y_test)\n",
    "\n",
    "def k_fold_cross_validation_accuracy(model_name, folds, epochs):\n",
    "    \"\"\"\n",
    "    Trains the model and returns its k-fold cross validation accuracy\n",
    "    \"\"\"\n",
    "    scores = []\n",
    "    for i, fold in enumerate(folds):\n",
    "        train, valid = fold\n",
    "        X_valid, y_valid = valid\n",
    "        X_train, y_train = train\n",
    "        model = get_model_by_name(model_name)\n",
    "        scores.append(get_model_accuracy(model, X_train, y_train, X_valid, y_valid, epochs))\n",
    "    k_fold_cross_validation_accuracy = 0\n",
    "    if len(scores) > 0:\n",
    "        k_fold_cross_validation_accuracy = sum(scores)/len(scores)\n",
    "    return k_fold_cross_validation_accuracy\n",
    "\n",
    "def get_model_by_name(model_name):\n",
    "    \"\"\"\n",
    "    Returns an intance of the given model name\n",
    "    \"\"\"\n",
    "    if model_name == 'Perceptron':\n",
    "        return Perceptron()\n",
    "    elif model_name == 'VotedPerceptron':\n",
    "        return VotedPerceptron()\n",
    "    return None\n",
    "\n",
    "def generate_comparision_result(X, y, num_of_folds, epochs_list, model_names):\n",
    "    \"\"\"\n",
    "    Returns an array of accuracy scores. Each element in the array corresponds to\n",
    "    the accuracy scores of various models for an epoch in given epoch list. \n",
    "    \"\"\"\n",
    "    scores_per_epoch = []\n",
    "    voted_perceptron_score_per_epoch = []\n",
    "    folds = generate_k_folds([X,y],num_of_folds)\n",
    "    for epochs in epochs_list:\n",
    "        scores_per_model = []\n",
    "        for model_name in model_names:\n",
    "            scores_per_model.append(k_fold_cross_validation_accuracy(model_name, folds, epochs))\n",
    "        scores_per_epoch.append(scores_per_model)\n",
    "    return scores_per_epoch"
   ]
  },
  {
   "cell_type": "code",
   "execution_count": 125,
   "metadata": {
    "collapsed": true
   },
   "outputs": [],
   "source": [
    "def plot_comparison_results(dataset_name, comparison_results, epoch_list):\n",
    "    \"\"\"\n",
    "    Utility method to plot the model comparision results\n",
    "    \"\"\"\n",
    "    perceptron_result = comparison_results[:,0].reshape([-1])\n",
    "    print(perceptron_result)\n",
    "    voted_perceptron_result = comparison_results[:,1].reshape([-1])\n",
    "    print(voted_perceptron_result)\n",
    "    fig, ax = plt.subplots()\n",
    "    ax.set_title('Model Comparison For {}'.format(dataset_name))\n",
    "    ax.plot(epoch_list, perceptron_result, label=\"Vanilla Perceptron\")\n",
    "    ax.plot(epoch_list, voted_perceptron_result, label=\"Voted Perceptron\")\n",
    "    leg = ax.legend();\n",
    "    plt.show()\n",
    "    "
   ]
  },
  {
   "cell_type": "markdown",
   "metadata": {},
   "source": [
    "### Model Comparison"
   ]
  },
  {
   "cell_type": "code",
   "execution_count": 126,
   "metadata": {},
   "outputs": [
    {
     "name": "stdout",
     "output_type": "stream",
     "text": [
      "[ 0.84857143  0.84201058  0.84857143  0.85142857  0.85142857  0.85714286\n",
      "  0.85428571  0.84857143  0.84857143]\n",
      "[ 0.85428571  0.84772487  0.85428571  0.85142857  0.84857143  0.84772487\n",
      "  0.85428571  0.84571429  0.84857143]\n"
     ]
    },
    {
     "data": {
      "image/png": "[encoded data removed]",
      "text/plain": [
       "<matplotlib.figure.Figure at 0x108b4e9e8>"
      ]
     },
     "metadata": {},
     "output_type": "display_data"
    }
   ],
   "source": [
    "model_names = ['Perceptron','VotedPerceptron']\n",
    "epoch_list = [10,15, 20, 25, 30, 35, 40, 45, 50]\n",
    "\n",
    "\n",
    "iodataset_results =  generate_comparision_result(X_io, y_io, 10, epoch_list, model_names)\n",
    "plot_comparison_results('Ionosphere Dataset', np.asarray(iodataset_results) , epoch_list)\n"
   ]
  },
  {
   "cell_type": "code",
   "execution_count": 127,
   "metadata": {},
   "outputs": [
    {
     "name": "stdout",
     "output_type": "stream",
     "text": [
      "[ 0.95360963  0.95360963  0.95294118  0.95147059  0.96029412  0.95147059\n",
      "  0.95588235  0.96390374  0.96470588]\n",
      "[ 0.91671123  0.92713904  0.87205882  0.93676471  0.91831551  0.92352941\n",
      "  0.88743316  0.95053476  0.95508021]\n"
     ]
    },
    {
     "data": {
      "image/png": "[encoded data removed]",
      "text/plain": [
       "<matplotlib.figure.Figure at 0x108ef89e8>"
      ]
     },
     "metadata": {},
     "output_type": "display_data"
    }
   ],
   "source": [
    "bcdataset_results = generate_comparision_result(X_bc, y_bc, 10, epoch_list, model_names)\n",
    "plot_comparison_results('Breast Cancer Dataset', np.asarray(bcdataset_results) , epoch_list)"
   ]
  },
  {
   "cell_type": "markdown",
   "metadata": {},
   "source": [
    "### Problem 1 Comments"
   ]
  },
  {
   "cell_type": "markdown",
   "metadata": {},
   "source": [
    "As we can observe from the above computations, we do incur additional computational expense due to  maintenance and storgae of weight updates and votes.  However, the number of mistakes is upper bounded by a function of the gap between the positive and negative examples. Also, good prediction vectors tend to survive for a longer time and thus have larger weight in the majority vote, minimising the overhead. "
   ]
  },
  {
   "cell_type": "markdown",
   "metadata": {},
   "source": [
    "## Problem 2: Least Square Approach"
   ]
  },
  {
   "cell_type": "markdown",
   "metadata": {
    "collapsed": true
   },
   "source": [
    "### Data Preparation"
   ]
  },
  {
   "cell_type": "code",
   "execution_count": 128,
   "metadata": {
    "collapsed": true
   },
   "outputs": [],
   "source": [
    "# Representing dataset D1 with 8 samples (Each class with 4 samples) and 2 features as 8x2 matrix XD1 \n",
    "# and corresponding binary class labels for 8 samples as 1-d (8x1 matrix) vector yD1\n",
    "# Value at any given index i in yD1 corresponds to class label for sample i in XD1\n",
    "# Value 1 in yD1  represents class label 1 and 0 represents (class label 2) \n",
    "     #x1   x2\n",
    "XD1=np.asarray([[ 3,   3],\n",
    "     [ 3,   0],\n",
    "     [ 2,   1],\n",
    "     [ 0,   2],\n",
    "     [-1,   1],\n",
    "     [ 0,   0],\n",
    "     [-1,  -1],\n",
    "     [ 1,   0]])\n",
    " \n",
    "yD1=np.asarray([1,1,1,1,0,0,0,0])\n",
    "\n",
    "# Representing dataset D2 with 8 samples (Each class with 4 samples) and 2 features as 8x2 matrix XD2 \n",
    "# and corresponding binary class labels for 8 samples as 1-d (8x1 matrix) vector yD2\n",
    "# Value at any given index i in yD1 corresponds to class label for sample i in XD2\n",
    "# Value 1 in yD2  represents class label 1 and 0 represents (class label 2) \n",
    "     #x1   x2\n",
    "XD2=np.asarray([[ 3,   3],\n",
    "     [ 3,   0],\n",
    "     [ 2,   1],\n",
    "     [ 0, 1.5],\n",
    "     [-1,   1],\n",
    "     [ 0,   0],\n",
    "     [-1,  -1],\n",
    "     [ 1,   0]])\n",
    " \n",
    "yD2=np.asarray([1,1,1,1,0,0,0,0])            "
   ]
  },
  {
   "cell_type": "markdown",
   "metadata": {},
   "source": [
    "###  Least Square Linear Classifier Implementation"
   ]
  },
  {
   "cell_type": "code",
   "execution_count": 129,
   "metadata": {},
   "outputs": [],
   "source": [
    "import numpy\n",
    "class LMS:\n",
    "    def __init__(self):\n",
    "        self.X=None\n",
    "        self.y=None\n",
    "        self.W = None\n",
    "        self.b = None\n",
    "        self.learning_rate=1\n",
    "        self.error_threshold = 0.0001\n",
    " \n",
    "      \n",
    "    def fit(self, X, y):\n",
    "        # Initialise weights and bias\n",
    "        self.w = np.zeros(len(X[0]))\n",
    "        for i,x in enumerate(X):\n",
    "            error = (y[i] - np.dot(X[i], self.w))\n",
    "            self.w += self.learning_rate*error*X[i]\n",
    "        return self\n",
    "    \n",
    "    def predict(self, X):\n",
    "        y = np.dot(X, self.w)\n",
    "        for i in range(y.shape[0]):\n",
    "            if y[i] > self.error_threshold:\n",
    "                y[i] = 1\n",
    "            else:\n",
    "                y[i] = 0\n",
    "        return y"
   ]
  },
  {
   "cell_type": "code",
   "execution_count": 130,
   "metadata": {},
   "outputs": [],
   "source": [
    "import numpy\n",
    "class LDA:\n",
    "    def __init__(self):\n",
    "        self.X=None\n",
    "        self.y=None\n",
    "        self.class_labels= None\n",
    "        self.mean_vectors = None\n",
    "        self.overall_mean = None\n",
    "        self.S_W = None\n",
    "        self.S_B = None\n",
    "        self.W = None\n",
    "        self.projection_centroids = {}\n",
    "        self.classifier_threshold = 0\n",
    " \n",
    "    def compute_classwise_mean_vectors(self):\n",
    "        mean_vectors = {}\n",
    "        class_labels = self.get_class_labels()\n",
    "        for class_label in class_labels:\n",
    "            mean_vectors[class_label] = (np.mean(self.X[self.y==class_label], axis=0))\n",
    "        return mean_vectors\n",
    "    \n",
    "    def compute_overall_mean(self):\n",
    "        return np.mean(self.X, axis=0)\n",
    "    \n",
    "    def get_class_labels(self):\n",
    "        if self.class_labels is not None:\n",
    "            return self.class_labels\n",
    "        else:\n",
    "            return np.unique(self.y)\n",
    "        \n",
    "    def compute_within_class_scatter(self):\n",
    "        # Compute within class scatter matrix\n",
    "        num_of_features=self.X.shape[1]\n",
    "        if self.mean_vectors is None:\n",
    "            self.mean_vectors = self.compute_classwise_mean_vectors()\n",
    "        self.S_W = np.zeros((num_of_features, num_of_features))\n",
    "        for class_label, mean_vector in self.mean_vectors.items():\n",
    "            class_scatter_matrix = np.zeros((num_of_features, num_of_features))\n",
    "            #Compute scatter within each class\n",
    "            for sample in self.X[self.y == class_label]:\n",
    "                class_scatter_matrix += np.outer((sample - mean_vector), (sample - mean_vector))\n",
    "            self.S_W +=class_scatter_matrix\n",
    "        \n",
    "    def compute_between_class_scatter(self):\n",
    "        num_of_features=self.X.shape[1]\n",
    "        if self.mean_vectors is None:\n",
    "            self.mean_vectors = self.compute_classwise_mean_vectors()\n",
    "        \n",
    "        if self.overall_mean is None:\n",
    "            self.overall_mean = self.compute_overall_mean()\n",
    "\n",
    "        self.S_B = np.zeros((num_of_features, num_of_features))\n",
    "        for class_label, mean_vector in self.mean_vectors.items():\n",
    "            num_of_samples_per_class = self.X[self.y==class_label].shape[0]\n",
    "            self.S_B += np.multiply(num_of_samples_per_class,\n",
    "                                   np.outer((mean_vector - self.overall_mean), \n",
    "                                            (mean_vector - self.overall_mean)))\n",
    "        \n",
    "    def compute_linear_discriminants(self, num_of_dimensions):\n",
    "        \n",
    "        if self.S_W is None:\n",
    "            self.compute_within_class_scatter()\n",
    "        if self.S_B is None:\n",
    "            self.compute_between_class_scatter()\n",
    "        eig_vals, eig_vecs = np.linalg.eig(np.linalg.inv(self.S_W).dot(self.S_B))\n",
    "\n",
    "        #Sort the (eig_value, eig_vec) pair in decreasing order\n",
    "        eigen_pairs = [(eig_vals[i], eig_vecs[:, i]) for i in range(len(eig_vals))]\n",
    "        sorted_eigen_pairs = sorted(eigen_pairs, key = lambda x : x[0], reverse = True)\n",
    "\n",
    "        num_of_features = self.X.shape[1]\n",
    "        self.W = np.hstack([eigen_pairs[i][1].reshape(num_of_features, 1) for i in range(0, num_of_dimensions)])\n",
    "        return self\n",
    "        \n",
    "    def fit(self, X,y):\n",
    "        if (X is None or y is None) or X.shape[0] != y.shape[0]:\n",
    "            raise ValueError('Invalid data!')\n",
    "        else:\n",
    "            self.X = X\n",
    "            self.y = y\n",
    "        number_of_dimensions = self.get_class_labels().shape[0] - 1 #We can have C-1 discriminants\n",
    "        self.compute_linear_discriminants(number_of_dimensions)\n",
    "        \n",
    "        print(self.W)\n",
    "        # Since LDA maps the data linearly in the direction of W, and we have only two classes\n",
    "        # It would be reasonable to assume the classifier threshold to be the centroid of the mean vectors\n",
    "        for class_label, mean_vector in self.mean_vectors.items():\n",
    "            self.projection_centroids[class_label] = np.dot(mean_vector, self.W)[0]\n",
    "        self.classifier_threshold = sum(self.projection_centroids.values())/len(self.projection_centroids.values()) #Centroid of the centroids of the projected classes\n",
    "        return self\n",
    "            \n",
    "    def transform(self,X):\n",
    "        if self.W is None:\n",
    "            raise ValueError('Trying to transform feature space without computing linear discriminants! Make sure you have called fit() before applying transform()')\n",
    "        return np.dot(X, self.W)\n",
    "    \n",
    "    def predict(self,X):\n",
    "        y = np.dot(X,self.W)\n",
    "        class_label_0 = self.get_class_labels()[0]\n",
    "        class_label_1 = self.get_class_labels()[1]\n",
    "        for i in range(y.shape[0]):\n",
    "            if y[i] >= self.classifier_threshold and self.projection_centroids[class_label_0] < self.classifier_threshold :\n",
    "                y[i] = class_label_1\n",
    "            else:\n",
    "                y[i] = class_label_0\n",
    "        return y"
   ]
  },
  {
   "cell_type": "markdown",
   "metadata": {},
   "source": [
    "### Plotting Utils"
   ]
  },
  {
   "cell_type": "code",
   "execution_count": 131,
   "metadata": {
    "collapsed": true
   },
   "outputs": [],
   "source": [
    "# Note: Below plotting idea have been taken from  \n",
    "# http://scikit-learn.org/stable/auto_examples/svm/plot_iris.html\n",
    "def make_meshgrid(x, y, h=.02):\n",
    "    \"\"\"Create a mesh of points to plot in\n",
    "\n",
    "    Parameters\n",
    "    ----------\n",
    "    x: data to base x-axis meshgrid on\n",
    "    y: data to base y-axis meshgrid on\n",
    "    h: stepsize for meshgrid, optional\n",
    "\n",
    "    Returns\n",
    "    -------\n",
    "    xx, yy : ndarray\n",
    "    \"\"\"\n",
    "    x_min, x_max = x.min() - 1, x.max() + 1\n",
    "    y_min, y_max = y.min() - 1, y.max() + 1\n",
    "    xx, yy = np.meshgrid(np.arange(x_min, x_max, h),\n",
    "                         np.arange(y_min, y_max, h))\n",
    "    return xx, yy\n",
    "\n",
    "\n",
    "def plot_contours(ax, clf, xx, yy, **params):\n",
    "    \"\"\"Plot the decision boundaries for a classifier.\n",
    "\n",
    "    Parameters\n",
    "    ----------\n",
    "    ax: matplotlib axes object\n",
    "    clf: a classifier\n",
    "    xx: meshgrid ndarray\n",
    "    yy: meshgrid ndarray\n",
    "    params: dictionary of params to pass to contourf, optional\n",
    "    \"\"\"\n",
    "    Z = clf.predict(np.c_[xx.ravel(), yy.ravel()])\n",
    "    Z = Z.reshape(xx.shape)\n",
    "    out = ax.contourf(xx, yy, Z, **params)\n",
    "    return out\n"
   ]
  },
  {
   "cell_type": "markdown",
   "metadata": {},
   "source": [
    "### Dataset 1 Exploration"
   ]
  },
  {
   "cell_type": "code",
   "execution_count": 132,
   "metadata": {},
   "outputs": [
    {
     "name": "stdout",
     "output_type": "stream",
     "text": [
      "[[ 0.74651327]\n",
      " [ 0.66537052]]\n"
     ]
    },
    {
     "data": {
      "image/png": "[encoded data removed]",
      "text/plain": [
       "<matplotlib.figure.Figure at 0x108c90470>"
      ]
     },
     "metadata": {},
     "output_type": "display_data"
    }
   ],
   "source": [
    "X = XD1\n",
    "y = yD1\n",
    "\n",
    "#Create instances of LMS and LDA models\n",
    "models = (LDA(), LMS())\n",
    "models = (clf.fit(X, y) for clf in models)\n",
    "\n",
    "# title for the plots\n",
    "titles = ('Linear Discriminant Approach',\n",
    "          'Least Square Approach',)\n",
    "\n",
    "# Set-up 2x2 grid for plotting.\n",
    "fig, sub = plt.subplots(2, 1)\n",
    "plt.subplots_adjust(wspace=0.4, hspace=0.4)\n",
    "\n",
    "X0, X1 = X[:, 0], X[:, 1]\n",
    "xx, yy = make_meshgrid(X0, X1)\n",
    "\n",
    "for clf, title, ax in zip(models, titles, sub.flatten()):\n",
    "    plot_contours(ax, clf, xx, yy,\n",
    "                  cmap=plt.cm.coolwarm, alpha=0.8)\n",
    "    ax.scatter(X0, X1, c=y, cmap=plt.cm.coolwarm, s=20, edgecolors='k')\n",
    "    ax.set_xlim(xx.min(), xx.max())\n",
    "    ax.set_ylim(yy.min(), yy.max())\n",
    "    ax.set_xlabel('x1')\n",
    "    ax.set_ylabel('x2')\n",
    "    ax.set_xticks(())\n",
    "    ax.set_yticks(())\n",
    "    ax.set_title(title)\n",
    "\n",
    "plt.show()"
   ]
  },
  {
   "cell_type": "markdown",
   "metadata": {},
   "source": [
    "### Dataset 2 Exploration"
   ]
  },
  {
   "cell_type": "code",
   "execution_count": 133,
   "metadata": {},
   "outputs": [
    {
     "name": "stdout",
     "output_type": "stream",
     "text": [
      "[[ 0.78102704]\n",
      " [ 0.62449721]]\n"
     ]
    },
    {
     "data": {
      "image/png": "[encoded data removed]",
      "text/plain": [
       "<matplotlib.figure.Figure at 0x108c907b8>"
      ]
     },
     "metadata": {},
     "output_type": "display_data"
    }
   ],
   "source": [
    "X = XD2\n",
    "y = yD2\n",
    "\n",
    "#Create instances of LMS and LDA models\n",
    "models = (LDA(), LMS())\n",
    "models = (clf.fit(X, y) for clf in models)\n",
    "\n",
    "# title for the plots\n",
    "titles = ('Linear Discriminant Approach',\n",
    "          'Least Square Approach',)\n",
    "\n",
    "# Set-up 2x2 grid for plotting.\n",
    "fig, sub = plt.subplots(2, 1)\n",
    "plt.subplots_adjust(wspace=0.4, hspace=0.4)\n",
    "\n",
    "X0, X1 = X[:, 0], X[:, 1]\n",
    "xx, yy = make_meshgrid(X0, X1)\n",
    "\n",
    "for clf, title, ax in zip(models, titles, sub.flatten()):\n",
    "    plot_contours(ax, clf, xx, yy,\n",
    "                  cmap=plt.cm.coolwarm, alpha=0.8)\n",
    "    ax.scatter(X0, X1, c=y, cmap=plt.cm.coolwarm, s=20, edgecolors='k')\n",
    "    ax.set_xlim(xx.min(), xx.max())\n",
    "    ax.set_ylim(yy.min(), yy.max())\n",
    "    ax.set_xlabel('x1')\n",
    "    ax.set_ylabel('x2')\n",
    "    ax.set_xticks(())\n",
    "    ax.set_yticks(())\n",
    "    ax.set_title(title)\n",
    "\n",
    "plt.show()"
   ]
  },
  {
   "cell_type": "markdown",
   "metadata": {
    "collapsed": true
   },
   "source": [
    "### Problem 2 Comment:"
   ]
  },
  {
   "cell_type": "markdown",
   "metadata": {},
   "source": [
    "In both the datasets, Linear Discriminant Approch gives better results. \n",
    "As we can observe clearly, Least Squares approach is trying to estimate w such that the model predictions are as close as possible to a set of target values making it more susceptible to any aberration to unseen data.\n",
    "On the other hand, LDA is trying to find the direction of the line that best separates the data by identifying the projection W that maximises between-class variance while minimising in class variance."
   ]
  },
  {
   "cell_type": "markdown",
   "metadata": {},
   "source": [
    "\n",
    " ## Problem 3: Latent Semantic Analysis"
   ]
  },
  {
   "cell_type": "code",
   "execution_count": 134,
   "metadata": {},
   "outputs": [
    {
     "name": "stdout",
     "output_type": "stream",
     "text": [
      "/Users/naveenpandey/Projects/learn/smai\n"
     ]
    }
   ],
   "source": [
    "import os\n",
    "from collections import Counter\n",
    "print(os.getcwd())\n",
    "class DataLoader:\n",
    "    def __init__(self):\n",
    "        self.train = []\n",
    "        self.valid = []\n",
    "        self.test = []\n",
    "        \n",
    "    def read_from_directory(self, data_dir, train='train', test ='test', val_split=.2):\n",
    "        \"\"\"\n",
    "        Reads train and test set from the given input directory.\n",
    "        Assumes the data is divided into train and test folder.\n",
    "        Each of the test and train are futher divided into sub folder by class labels\n",
    "        Example:\n",
    "        /directory\n",
    "        |--/test\n",
    "        |----/label1\n",
    "        |----/labeln\n",
    "        |\n",
    "        |--/train\n",
    "        |----/label1\n",
    "        |----/labeln\n",
    "        \"\"\"\n",
    "        X = []\n",
    "        y = []\n",
    "        path_extension = 'txt'\n",
    "        \n",
    "        if train is not None and len(train)>0:\n",
    "            for root, dirs, files in os.walk(os.path.join(data_dir,train)):\n",
    "                for file in files:\n",
    "                    if file.endswith(path_extension):\n",
    "                        paths = root.split('/')\n",
    "                        document_label = paths[-1]\n",
    "                        document_id = \"{}{}\".format(document_label, file.split('.')[0])\n",
    "                        with open(os.path.join(root,file), 'rb') as f:\n",
    "                            wordcounter = Counter(f.read().strip().split())\n",
    "                            doc_word_frequency = [document_id,wordcounter ,document_id]\n",
    "                            self.train.append(doc_word_frequency)\n",
    "                                             \n",
    "        if test is not None and len(test)>0:\n",
    "            for root, dirs, files in os.walk(os.path.join(data_dir,train)):\n",
    "                for file in files:\n",
    "                    if file.endswith(path_extension):\n",
    "                        paths = root.split('/')\n",
    "                        document_label = paths[-1]\n",
    "                        document_id = \"{}{}\".format(document_label, file.split('.')[0])\n",
    "                        with open(os.path.join(root,file),'rb') as f:\n",
    "                            wordcounter = Counter(f.read().strip().split())\n",
    "                            doc_word_frequency = [document_id,wordcounter ,document_id]\n",
    "                            self.test.append(doc_word_frequency)\n",
    "                    "
   ]
  },
  {
   "cell_type": "code",
   "execution_count": 135,
   "metadata": {},
   "outputs": [
    {
     "name": "stdout",
     "output_type": "stream",
     "text": [
      "/Users/naveenpandey/Projects/learn/smai\r\n"
     ]
    }
   ],
   "source": [
    "!pwd"
   ]
  },
  {
   "cell_type": "code",
   "execution_count": 136,
   "metadata": {},
   "outputs": [],
   "source": [
    "data_dir = '/Users/naveenpandey/Projects/learn/smai/dataset' #Full path\n",
    "dataloader = DataLoader()\n",
    "dataloader.read_from_directory(data_dir, train='train', test=None)"
   ]
  },
  {
   "cell_type": "code",
   "execution_count": null,
   "metadata": {
    "collapsed": true
   },
   "outputs": [],
   "source": []
  },
  {
   "cell_type": "code",
   "execution_count": null,
   "metadata": {
    "collapsed": true
   },
   "outputs": [],
   "source": []
  }
 ],
 "metadata": {
  "kernelspec": {
   "display_name": "Python 3",
   "language": "python",
   "name": "python3"
  },
  "language_info": {
   "codemirror_mode": {
    "name": "ipython",
    "version": 3
   },
   "file_extension": ".py",
   "mimetype": "text/x-python",
   "name": "python",
   "nbconvert_exporter": "python",
   "pygments_lexer": "ipython3",
   "version": "3.5.2"
  },
  "widgets": {
   "state": {},
   "version": "1.1.2"
  }
 },
 "nbformat": 4,
 "nbformat_minor": 2
}
